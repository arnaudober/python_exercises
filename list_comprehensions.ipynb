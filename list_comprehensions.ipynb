{
 "cells": [
  {
   "cell_type": "code",
   "execution_count": 2,
   "metadata": {},
   "outputs": [
    {
     "name": "stdout",
     "output_type": "stream",
     "text": [
      "{'hello': 2, 'me': 2, 'arnaud': 2, 'you': 2}\n"
     ]
    }
   ],
   "source": [
    "import re\n",
    "\n",
    "# -----\n",
    "# Input\n",
    "# -----\n",
    "str = \"Hello, my name is John! Hello, people calls me Arnaud. Hi, you can call me George. Hey, how are you Arnaud?\"\n",
    "\n",
    "\n",
    "# -----\n",
    "# Methods\n",
    "# -----\n",
    "\n",
    "def split_sentences(str):\n",
    "    # Splits sentences on punctuation\n",
    "    return re.split('\\. |\\! |\\? |\\.|\\!|\\?', str)\n",
    "\n",
    "def split_words(str):\n",
    "    # Splits words on spaces, commas and apostrophes\n",
    "    return [\n",
    "        word.lower()\n",
    "        for word in re.split('\\'| |, ', str)]\n",
    "\n",
    "def count_words(list): # Convert that into comprehension\n",
    "    word_dict = dict()\n",
    "    for word in list:\n",
    "        word_dict[word] = word_dict.get(word, 0) + 1\n",
    "\n",
    "    return word_dict\n",
    "\n",
    "def filter_non_duplicates(dictionary):\n",
    "    return {\n",
    "        key: value\n",
    "        for key, value in dictionary.items()\n",
    "        if value > 1\n",
    "    }\n",
    "    \n",
    "def count_duplicates(str):\n",
    "    sentences = [sentence for sentence in split_sentences(str)]\n",
    "    words = [split_words(sentence) for sentence in sentences]\n",
    "    word_list = [item for sublist in words for item in sublist if item != '']\n",
    "\n",
    "    dictionary = count_words(word_list)\n",
    "    return filter_non_duplicates(dictionary)\n",
    "\n",
    "\n",
    "# -----\n",
    "# Output\n",
    "# -----\n",
    "print(count_duplicates(str))"
   ]
  }
 ],
 "metadata": {
  "kernelspec": {
   "display_name": "Python 3",
   "language": "python",
   "name": "python3"
  },
  "language_info": {
   "codemirror_mode": {
    "name": "ipython",
    "version": 3
   },
   "file_extension": ".py",
   "mimetype": "text/x-python",
   "name": "python",
   "nbconvert_exporter": "python",
   "pygments_lexer": "ipython3",
   "version": "3.11.4"
  },
  "orig_nbformat": 4
 },
 "nbformat": 4,
 "nbformat_minor": 2
}
