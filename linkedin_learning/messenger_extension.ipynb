{
 "cells": [
  {
   "cell_type": "code",
   "execution_count": 32,
   "id": "35d4f1f5",
   "metadata": {},
   "outputs": [],
   "source": [
    "from datetime import datetime\n",
    "\n",
    "def getCurrentTime():\n",
    "    return datetime.now().strftime(\"%m-%d-%Y at %H:%M:%S\")\n",
    "\n",
    "\n",
    "class Messenger:\n",
    "    def __init__(self, listeners=[]):\n",
    "        self.listeners = listeners\n",
    "    \n",
    "    def send(self, message):\n",
    "        for listener in self.listeners:\n",
    "            listener.receive(message)\n",
    "\n",
    "    def receive(self, message):\n",
    "        # Must be implemented by extending classes\n",
    "        pass\n",
    "\n",
    "\n",
    "class SaveMessages(Messenger):\n",
    "    def __init__(self, listeners=[]):\n",
    "        super().__init__(listeners)\n",
    "        self.__messages = []\n",
    "\n",
    "    def receive(self, message): \n",
    "        super()\n",
    "        message = { \"msg\": message, \"time\": getCurrentTime() }\n",
    "        self.__messages.append(message)\n",
    "        self.__printMessage(message)\n",
    "\n",
    "    def printMessages(self):\n",
    "        for message in self.__messages:\n",
    "            self.__printMessage(message)\n",
    "        self.clear()\n",
    "    \n",
    "    def clear(self):\n",
    "        self.__messages = []\n",
    "\n",
    "    def __printMessage(self, message):\n",
    "        print(\"Message received: \" + message['msg'] + \" on \" + message['time'])\n",
    "\n",
    "\n"
   ]
  },
  {
   "cell_type": "code",
   "execution_count": 37,
   "id": "608e3112",
   "metadata": {},
   "outputs": [
    {
     "name": "stdout",
     "output_type": "stream",
     "text": [
      "Message received: Hello, there! This is the first message on 08-23-2023 at 17:22:39\n"
     ]
    }
   ],
   "source": [
    "# Run this cell after you've written your solution\n",
    "listener = SaveMessages()\n",
    "\n",
    "sender = Messenger([listener])\n",
    "\n",
    "sender.send('Hello, there! This is the first message')\n"
   ]
  },
  {
   "cell_type": "code",
   "execution_count": 38,
   "id": "2de8c179",
   "metadata": {},
   "outputs": [
    {
     "name": "stdout",
     "output_type": "stream",
     "text": [
      "Message received: Oh hi! This is the second message! on 08-23-2023 at 17:22:42\n"
     ]
    }
   ],
   "source": [
    "# Run this cell after you've written your solution\n",
    "sender.send('Oh hi! This is the second message!')"
   ]
  },
  {
   "cell_type": "code",
   "execution_count": 39,
   "id": "5731a38e",
   "metadata": {},
   "outputs": [
    {
     "name": "stdout",
     "output_type": "stream",
     "text": [
      "Message received: Hola! This is the third and final message! on 08-23-2023 at 17:22:47\n",
      "Message received: Hello, there! This is the first message on 08-23-2023 at 17:22:39\n",
      "Message received: Oh hi! This is the second message! on 08-23-2023 at 17:22:42\n",
      "Message received: Hola! This is the third and final message! on 08-23-2023 at 17:22:47\n"
     ]
    }
   ],
   "source": [
    "# Run this cell after you've written your solution\n",
    "sender.send('Hola! This is the third and final message!')\n",
    "\n",
    "listener.printMessages()"
   ]
  },
  {
   "cell_type": "code",
   "execution_count": 36,
   "id": "08951439",
   "metadata": {},
   "outputs": [
    {
     "ename": "AttributeError",
     "evalue": "'SaveMessages' object has no attribute '__messages'",
     "output_type": "error",
     "traceback": [
      "\u001b[0;31m---------------------------------------------------------------------------\u001b[0m",
      "\u001b[0;31mAttributeError\u001b[0m                            Traceback (most recent call last)",
      "Cell \u001b[0;32mIn[36], line 1\u001b[0m\n\u001b[0;32m----> 1\u001b[0m listener\u001b[39m.\u001b[39;49m__messages\n",
      "\u001b[0;31mAttributeError\u001b[0m: 'SaveMessages' object has no attribute '__messages'"
     ]
    }
   ],
   "source": [
    "listener.__messages"
   ]
  }
 ],
 "metadata": {
  "kernelspec": {
   "display_name": "Python 3.10.4 64-bit",
   "language": "python",
   "name": "python3"
  },
  "language_info": {
   "codemirror_mode": {
    "name": "ipython",
    "version": 3
   },
   "file_extension": ".py",
   "mimetype": "text/x-python",
   "name": "python",
   "nbconvert_exporter": "python",
   "pygments_lexer": "ipython3",
   "version": "3.11.4"
  },
  "vscode": {
   "interpreter": {
    "hash": "949777d72b0d2535278d3dc13498b2535136f6dfe0678499012e853ee9abcab1"
   }
  }
 },
 "nbformat": 4,
 "nbformat_minor": 5
}
